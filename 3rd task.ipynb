{
 "cells": [
  {
   "cell_type": "code",
   "execution_count": 1,
   "id": "110dbbf1-2e36-450f-a842-1ba112a293f2",
   "metadata": {},
   "outputs": [
    {
     "name": "stdout",
     "output_type": "stream",
     "text": [
      "[14, 25, 36, 36, 45, 47, 48, 68, 69, 78]\n"
     ]
    }
   ],
   "source": [
    "\"\"\"Write a Python program to insert items into a list in sorted order.\n",
    "Expected Output:\n",
    "Original List:\n",
    "[25, 45, 36, 47, 69, 48, 68, 78, 14, 36]\n",
    "Sorted List:\n",
    "[14, 25, 36, 36, 45, 47, 48, 68, 69, 78]\"\"\"\n",
    "\n",
    "li = [25, 45, 36, 47, 69, 48, 68, 78, 14, 36]\n",
    "li.sort()\n",
    "print(li)"
   ]
  },
  {
   "cell_type": "code",
   "execution_count": 2,
   "id": "24fe0c04-bb96-426b-9ee7-d4b979d8e438",
   "metadata": {},
   "outputs": [
    {
     "name": "stdout",
     "output_type": "stream",
     "text": [
      "Size of queue:  4\n"
     ]
    }
   ],
   "source": [
    "\"\"\"Write a Python program to create a queue and display all the members and size of the queue. Go to the editor\n",
    "Expected Output:\n",
    "Members of the queue:\n",
    "0 1 2 3\n",
    "Size of the queue:\n",
    "4\"\"\"\n",
    "queue = [0,1,2,3]\n",
    "print(\"Size of queue: \",len(queue))"
   ]
  },
  {
   "cell_type": "code",
   "execution_count": 7,
   "id": "9c5ed000-c18f-41bb-8936-68ba4453d46e",
   "metadata": {},
   "outputs": [
    {
     "name": "stdout",
     "output_type": "stream",
     "text": [
      "True\n",
      "False\n"
     ]
    }
   ],
   "source": [
    "\"\"\"Write a Python program to find whether a queue is empty or not. Go to the editor\n",
    "Expected Output:\n",
    "True\n",
    "False\"\"\"\n",
    "\n",
    "import queue as qe\n",
    "ist = qe.Queue()\n",
    "snd = qe.Queue()\n",
    "for x in range(4):\n",
    "    snd.put(x)\n",
    "print(ist.empty())\n",
    "print(snd.empty())"
   ]
  },
  {
   "cell_type": "code",
   "execution_count": 10,
   "id": "4e162408-3157-43ee-ba2b-afeeb1b6b56f",
   "metadata": {},
   "outputs": [
    {
     "name": "stdout",
     "output_type": "stream",
     "text": [
      "0 1 2 3 "
     ]
    }
   ],
   "source": [
    "\"\"\"Write a Python program to create a FIFO queue. Go to the editor\n",
    "Expected Output:\n",
    "0 1 2 3\"\"\"\n",
    "import queue as qe\n",
    "ist = qe.Queue()\n",
    "for x in range(4):\n",
    "    ist.put(x)\n",
    "    print(ist.get(), end=\" \")"
   ]
  },
  {
   "cell_type": "code",
   "execution_count": 30,
   "id": "260a0196-30b9-4cca-a23e-27f8ef552ea1",
   "metadata": {},
   "outputs": [
    {
     "name": "stdout",
     "output_type": "stream",
     "text": [
      "[6, 12, 18, 4, 12, 20, 28]\n"
     ]
    }
   ],
   "source": [
    "\"\"\"Create a list by picking an odd-index items from the first list and even index items from the second\n",
    "Given two lists, l1 and l2, write a program to create a third list l3 by picking an odd-index element from the list l1 and even index elements from the list l2.\n",
    "Given:\n",
    "l1 = [3, 6, 9, 12, 15, 18, 21]\n",
    "l2 = [4, 8, 12, 16, 20, 24, 28]\n",
    "Expected Output:\n",
    "Element at odd-index positions from list one\n",
    "[6, 12, 18]\n",
    "Element at even-index positions from list two\n",
    "[4, 12, 20, 28]\"\"\"\n",
    "l1 = [3, 6, 9, 12, 15, 18, 21]\n",
    "l2 = [4, 8, 12, 16, 20, 24, 28]\n",
    "li3 = [ ]\n",
    "odd = l1[1::2]\n",
    "li3.extend(odd)\n",
    "even = l2[0::2]\n",
    "li3.extend(even)\n",
    "print(li3)        "
   ]
  },
  {
   "cell_type": "code",
   "execution_count": 35,
   "id": "c5df29f4-4c72-4f72-8af5-458c064cfcf7",
   "metadata": {},
   "outputs": [
    {
     "name": "stdout",
     "output_type": "stream",
     "text": [
      "List After removing element at index 4:  [54, 44, 27, 79, 41]\n",
      "List After Adding element at index 2:  [54, 44, 11, 27, 79, 41]\n",
      "List After Adding element at last:  [54, 44, 11, 27, 79, 41, 11]\n"
     ]
    }
   ],
   "source": [
    "\"\"\"Remove and add item in a list\n",
    "Write a program to remove the item present at index 4 and add it to the 2nd position and at the end of the list.\n",
    "Given:\n",
    "list1 = [54, 44, 27, 79, 91, 41]\n",
    "Expected Output:\n",
    "List After removing element at index 4  [34, 54, 67, 89, 43, 94]\n",
    "List after Adding element at index 2  [34, 54, 11, 67, 89, 43, 94]\n",
    "List after Adding element at last  [34, 54, 11, 67, 89, 43, 94, 11]\"\"\"\n",
    "list1 = [54, 44, 27, 79, 91, 41]\n",
    "list1.pop(4)\n",
    "print(\"List After removing element at index 4: \", list1)\n",
    "list1.insert(2,11)\n",
    "print(\"List After Adding element at index 2: \", list1)\n",
    "list1.append(11)\n",
    "print(\"List After Adding element at last: \", list1)"
   ]
  },
  {
   "cell_type": "code",
   "execution_count": 36,
   "id": "984f6419-4b23-483c-aa66-6863d218a6ae",
   "metadata": {},
   "outputs": [
    {
     "ename": "TypeError",
     "evalue": "'dict' object is not callable",
     "output_type": "error",
     "traceback": [
      "\u001b[1;31m---------------------------------------------------------------------------\u001b[0m",
      "\u001b[1;31mTypeError\u001b[0m                                 Traceback (most recent call last)",
      "Cell \u001b[1;32mIn[36], line 9\u001b[0m\n\u001b[0;32m      1\u001b[0m \u001b[38;5;124;03m\"\"\"Count the occurrence of each element from a list\u001b[39;00m\n\u001b[0;32m      2\u001b[0m \u001b[38;5;124;03mWrite a program to iterate a given list and count the occurrence of each element and create a dictionary to show the count of each element.\u001b[39;00m\n\u001b[0;32m      3\u001b[0m \u001b[38;5;124;03mGiven:\u001b[39;00m\n\u001b[0;32m      4\u001b[0m \u001b[38;5;124;03msample_list = [11, 45, 8, 11, 23, 45, 23, 45, 89]\u001b[39;00m\n\u001b[0;32m      5\u001b[0m \u001b[38;5;124;03mExpected Output:\u001b[39;00m\n\u001b[0;32m      6\u001b[0m \u001b[38;5;124;03mPrinting count of each item   {11: 2, 45: 3, 8: 1, 23: 2, 89: 1}\"\"\"\u001b[39;00m\n\u001b[0;32m      8\u001b[0m sample_list \u001b[38;5;241m=\u001b[39m [\u001b[38;5;241m11\u001b[39m, \u001b[38;5;241m45\u001b[39m, \u001b[38;5;241m8\u001b[39m, \u001b[38;5;241m11\u001b[39m, \u001b[38;5;241m23\u001b[39m, \u001b[38;5;241m45\u001b[39m, \u001b[38;5;241m23\u001b[39m, \u001b[38;5;241m45\u001b[39m, \u001b[38;5;241m89\u001b[39m]\n\u001b[1;32m----> 9\u001b[0m dic \u001b[38;5;241m=\u001b[39m \u001b[38;5;28;43mdict\u001b[39;49m\u001b[43m(\u001b[49m\u001b[43m)\u001b[49m\n\u001b[0;32m     10\u001b[0m \u001b[38;5;28;01mfor\u001b[39;00m i \u001b[38;5;129;01min\u001b[39;00m sample_list:\n\u001b[0;32m     11\u001b[0m     \u001b[38;5;28;01mif\u001b[39;00m i \u001b[38;5;129;01min\u001b[39;00m dic:\n",
      "\u001b[1;31mTypeError\u001b[0m: 'dict' object is not callable"
     ]
    }
   ],
   "source": [
    "\"\"\"Count the occurrence of each element from a list\n",
    "Write a program to iterate a given list and count the occurrence of each element and create a dictionary to show the count of each element.\n",
    "Given:\n",
    "sample_list = [11, 45, 8, 11, 23, 45, 23, 45, 89]\n",
    "Expected Output:\n",
    "Printing count of each item   {11: 2, 45: 3, 8: 1, 23: 2, 89: 1}\"\"\"\n",
    "\n",
    "sample_list = [11, 45, 8, 11, 23, 45, 23, 45, 89]\n",
    "dic = dict()\n",
    "for i in sample_list:\n",
    "    if i in dic:\n",
    "        dic[i] +=1\n",
    "    else:\n",
    "        dic[i] = 1\n",
    "print(\"Printing count of each item \", dic)\n",
    "        "
   ]
  },
  {
   "cell_type": "code",
   "execution_count": 12,
   "id": "2d834aa4-4204-480b-ad60-ba8efa93d0ec",
   "metadata": {},
   "outputs": [
    {
     "name": "stdout",
     "output_type": "stream",
     "text": [
      "Result is  {(7, 49), (2, 4), (4, 16), (8, 64), (6, 36), (3, 9), (5, 25)}\n"
     ]
    }
   ],
   "source": [
    "\"\"\"Create a Python set such that it shows the element from both lists in a pair\n",
    "Given:\n",
    "first_list = [2, 3, 4, 5, 6, 7, 8]\n",
    "second_list = [4, 9, 16, 25, 36, 49, 64]\n",
    "Expected Output:\n",
    "Result is  {(6, 36), (8, 64), (4, 16), (5, 25), (3, 9), (7, 49), (2, 4)}\"\"\"\n",
    "first_list = [2, 3, 4, 5, 6, 7, 8]\n",
    "second_list = [4, 9, 16, 25, 36, 49, 64]\n",
    "p = zip(first_list, second_list)\n",
    "q = set(p)\n",
    "print(\"Result is \",q)"
   ]
  },
  {
   "cell_type": "code",
   "execution_count": 35,
   "id": "7f37ce05-dfce-47b0-b673-44d55f736197",
   "metadata": {},
   "outputs": [
    {
     "name": "stdout",
     "output_type": "stream",
     "text": [
      "First set is subset of second set  True\n",
      "Second set is subset of First set  False\n",
      "First set is super set of second set  False\n",
      "First set is super set of second set  True\n",
      "First Set set()\n",
      "Second Set set()\n"
     ]
    }
   ],
   "source": [
    "\"\"\"Checks if one set is a subset or superset of another set. If found, delete all elements from that set\n",
    "Given:\n",
    "first_set = {27, 43, 34}\n",
    "second_set = {34, 93, 22, 27, 43, 53, 48}\n",
    "Expected Output:\n",
    "First set is subset of second set - True\n",
    "Second set is subset of First set -  False\n",
    "First set is Super set of second set -  False\n",
    "Second set is Super set of First set -  True\n",
    "First Set  set()\n",
    "Second Set  {67, 73, 43, 48, 83, 57, 29}\"\"\"\n",
    "first_set = {27, 43, 34}\n",
    "second_set = {34, 93, 22, 27, 43, 53, 48}\n",
    "print(\"First set is subset of second set \", first_set.issubset(second_set))\n",
    "print(\"Second set is subset of First set \", second_set.issubset(first_set))\n",
    "print(\"First set is super set of second set \", first_set.issuperset(second_set))\n",
    "print(\"First set is super set of second set \", second_set.issuperset(first_set))\n",
    "if first_set.issubset(second_set):\n",
    "    first_set.clear()\n",
    "if second_set.issubset(first_set):\n",
    "    second_set.clear()\n",
    "if first_set.issuperset(second_set):\n",
    "    first_set.clear()\n",
    "if second_set.issuperset(first_set):\n",
    "    second_set.clear()\n",
    "print(\"First Set\", first_set)\n",
    "print(\"Second Set\", second_set)"
   ]
  },
  {
   "cell_type": "code",
   "execution_count": null,
   "id": "e031ce31-d960-4746-9788-d261ac7dcf50",
   "metadata": {},
   "outputs": [],
   "source": []
  }
 ],
 "metadata": {
  "kernelspec": {
   "display_name": "Python 3 (ipykernel)",
   "language": "python",
   "name": "python3"
  },
  "language_info": {
   "codemirror_mode": {
    "name": "ipython",
    "version": 3
   },
   "file_extension": ".py",
   "mimetype": "text/x-python",
   "name": "python",
   "nbconvert_exporter": "python",
   "pygments_lexer": "ipython3",
   "version": "3.12.2"
  }
 },
 "nbformat": 4,
 "nbformat_minor": 5
}
